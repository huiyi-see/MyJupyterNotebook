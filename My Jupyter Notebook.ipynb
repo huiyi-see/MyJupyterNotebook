{
    "cells": [
        {
            "metadata": {
                "collapsed": true
            },
            "cell_type": "markdown",
            "source": "# My Jupyter Notebook on IBM Watson Studio"
        },
        {
            "metadata": {},
            "cell_type": "markdown",
            "source": "**Hui Yi See**\n\nA recent graduate who looking to become data analytics"
        },
        {
            "metadata": {},
            "cell_type": "markdown",
            "source": "*I am interested in data science because I am looking to gain insights from data*"
        },
        {
            "metadata": {},
            "cell_type": "markdown",
            "source": "### Below is a simple math addition operation"
        },
        {
            "metadata": {},
            "cell_type": "code",
            "source": "x = 1\ny = 2\nprint (x + y)",
            "execution_count": 3,
            "outputs": [
                {
                    "output_type": "stream",
                    "text": "3\n",
                    "name": "stdout"
                }
            ]
        },
        {
            "metadata": {},
            "cell_type": "markdown",
            "source": " 1. __an inline-style link__\n\n[inline-style link](https://www.google.com)\n\n---\n2. __bullet list__\n\n    - list1.\n\n    - list2.\n\n---\n3. __image__\n\n<a data-flickr-embed=\"true\" href=\"https://www.flickr.com/photos/126574513@N04/50167034291/in/explore-2020-07-30/\" title=\"Comet Diaries - Episode Two\"><img src=\"https://live.staticflickr.com/65535/50167034291_80707cbbb8_k.jpg\" width=\"2348\" height=\"1365\" alt=\"Comet Diaries - Episode Two\"></a><script async src=\"//embedr.flickr.com/assets/client-code.js\" charset=\"utf-8\"></script>"
        },
        {
            "metadata": {},
            "cell_type": "code",
            "source": "",
            "execution_count": null,
            "outputs": []
        }
    ],
    "metadata": {
        "kernelspec": {
            "name": "python3",
            "display_name": "Python 3.6",
            "language": "python"
        },
        "language_info": {
            "name": "python",
            "version": "3.6.9",
            "mimetype": "text/x-python",
            "codemirror_mode": {
                "name": "ipython",
                "version": 3
            },
            "pygments_lexer": "ipython3",
            "nbconvert_exporter": "python",
            "file_extension": ".py"
        }
    },
    "nbformat": 4,
    "nbformat_minor": 1
}